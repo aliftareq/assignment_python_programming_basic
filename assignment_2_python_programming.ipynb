{
 "cells": [
  {
   "cell_type": "markdown",
   "id": "e39337f4",
   "metadata": {},
   "source": [
    "# 1. Write a Python program to convert kilometers to miles?"
   ]
  },
  {
   "cell_type": "code",
   "execution_count": 4,
   "id": "0f81b93c",
   "metadata": {},
   "outputs": [
    {
     "name": "stdout",
     "output_type": "stream",
     "text": [
      "Please,enter your value:10\n",
      "10.0 km is equal to 6.21371 mile\n"
     ]
    }
   ],
   "source": [
    "#ans_for_1\n",
    "\n",
    "value = float(input(\"Please,enter your value:\"))\n",
    "\n",
    "mile = 0.621371 * value\n",
    "\n",
    "print(f\"{value} km is equal to {mile} mile\")"
   ]
  },
  {
   "cell_type": "markdown",
   "id": "12d12ab8",
   "metadata": {},
   "source": [
    "# 2. Write a Python program to convert Celsius to Fahrenheit?"
   ]
  },
  {
   "cell_type": "code",
   "execution_count": 6,
   "id": "92c0f522",
   "metadata": {},
   "outputs": [
    {
     "name": "stdout",
     "output_type": "stream",
     "text": [
      "Please,enter your celsious value:36\n",
      "36.0 celsious is equal to 96.8 Farenhite\n"
     ]
    }
   ],
   "source": [
    "#ans_for_2\n",
    "C = float(input(\"Please,enter your celsious value:\"))\n",
    "\n",
    "Farenhite = ((9*C)/5) + 32\n",
    "\n",
    "print(f\"{C} celsious is equal to {Farenhite} Farenhite\")"
   ]
  },
  {
   "cell_type": "markdown",
   "id": "098a04db",
   "metadata": {},
   "source": [
    "# 3. Write a Python program to display calendar?"
   ]
  },
  {
   "cell_type": "code",
   "execution_count": 8,
   "id": "3e534c69",
   "metadata": {},
   "outputs": [
    {
     "name": "stdout",
     "output_type": "stream",
     "text": [
      "please,enter the year2000\n",
      "please,enter the month4\n",
      "     April 2000\n",
      "Mo Tu We Th Fr Sa Su\n",
      "                1  2\n",
      " 3  4  5  6  7  8  9\n",
      "10 11 12 13 14 15 16\n",
      "17 18 19 20 21 22 23\n",
      "24 25 26 27 28 29 30\n",
      "\n"
     ]
    }
   ],
   "source": [
    "#ans_for_3\n",
    "\n",
    "import calendar\n",
    "\n",
    "yy = int(input(\"please,enter the year\"))\n",
    "mm = int(input(\"please,enter the month\"))\n",
    "\n",
    "print(calendar.month(yy,mm))"
   ]
  },
  {
   "cell_type": "markdown",
   "id": "2e38cc7d",
   "metadata": {},
   "source": [
    "# 4. Write a Python program to solve quadratic equation?"
   ]
  },
  {
   "cell_type": "code",
   "execution_count": 12,
   "id": "b0af8e50",
   "metadata": {},
   "outputs": [
    {
     "name": "stdout",
     "output_type": "stream",
     "text": [
      "Enter the value of a:3\n",
      "Enter the value of b:7\n",
      "Enter the value of c:1\n",
      "Roots of the quadratic equation is : -0.15287291161696345 , -2.18046042171637\n"
     ]
    }
   ],
   "source": [
    "#ans_for_4\n",
    "import math\n",
    "a = float(input(\"Enter the value of a:\"))\n",
    "b = float(input(\"Enter the value of b:\"))\n",
    "c = float(input(\"Enter the value of c:\"))\n",
    "\n",
    "root_1 = ( - b + math.sqrt((b*b)-(4*a*c)))/(2*a)\n",
    "root_2 = ( - b - math.sqrt((b*b)-(4*a*c)))/(2*a)\n",
    "\n",
    "print(f\"Roots of the quadratic equation is : {root_1} , {root_2}\")"
   ]
  },
  {
   "cell_type": "markdown",
   "id": "3b28cc6c",
   "metadata": {},
   "source": [
    "# 5. Write a Python program to swap two variables without temp variable?"
   ]
  },
  {
   "cell_type": "code",
   "execution_count": 20,
   "id": "ee7eb2ef",
   "metadata": {},
   "outputs": [
    {
     "name": "stdout",
     "output_type": "stream",
     "text": [
      "after swapping, a = 15 , b = 10\n"
     ]
    }
   ],
   "source": [
    "#ans_for_5\n",
    "a = 10 \n",
    "b = 15\n",
    "a,b = b,a\n",
    "\n",
    "print(f\"after swapping, a = {a} , b = {b}\")"
   ]
  },
  {
   "cell_type": "code",
   "execution_count": null,
   "id": "a0186720",
   "metadata": {},
   "outputs": [],
   "source": []
  }
 ],
 "metadata": {
  "kernelspec": {
   "display_name": "Python 3 (ipykernel)",
   "language": "python",
   "name": "python3"
  },
  "language_info": {
   "codemirror_mode": {
    "name": "ipython",
    "version": 3
   },
   "file_extension": ".py",
   "mimetype": "text/x-python",
   "name": "python",
   "nbconvert_exporter": "python",
   "pygments_lexer": "ipython3",
   "version": "3.9.7"
  }
 },
 "nbformat": 4,
 "nbformat_minor": 5
}
