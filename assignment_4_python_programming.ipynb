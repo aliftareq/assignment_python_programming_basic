{
 "cells": [
  {
   "cell_type": "markdown",
   "id": "996d73af",
   "metadata": {},
   "source": [
    "# Assignment no 4"
   ]
  },
  {
   "cell_type": "markdown",
   "id": "8e32b5f3",
   "metadata": {},
   "source": [
    "# 1. Write a Python Program to Find the Factorial of a Number?"
   ]
  },
  {
   "cell_type": "code",
   "execution_count": 9,
   "id": "eb895de5",
   "metadata": {},
   "outputs": [
    {
     "name": "stdout",
     "output_type": "stream",
     "text": [
      "Please,enter a number:1\n",
      "Factorial of this number is 1\n"
     ]
    }
   ],
   "source": [
    "#ans_for_1(1)\n",
    "num = int(input(\"Please,enter a number:\"))\n",
    "fact = 1\n",
    "for i in range(1,num+1):\n",
    "    fact = fact * i\n",
    "    \n",
    "print(f\"Factorial of this number is {fact}\")"
   ]
  },
  {
   "cell_type": "code",
   "execution_count": 13,
   "id": "7c665f80",
   "metadata": {},
   "outputs": [],
   "source": [
    "#ans_for_1(2)\n",
    "def fact_recursive(num):\n",
    "    if num == 1 or num == 0:\n",
    "        return 1\n",
    "    else:\n",
    "        return num * fact_recursive(num-1)"
   ]
  },
  {
   "cell_type": "code",
   "execution_count": 15,
   "id": "c003b88a",
   "metadata": {},
   "outputs": [
    {
     "data": {
      "text/plain": [
       "120"
      ]
     },
     "execution_count": 15,
     "metadata": {},
     "output_type": "execute_result"
    }
   ],
   "source": [
    "fact_recursive(5)"
   ]
  },
  {
   "cell_type": "markdown",
   "id": "5ad9993f",
   "metadata": {},
   "source": [
    "# 2. Write a Python Program to Display the multiplication Table?"
   ]
  },
  {
   "cell_type": "code",
   "execution_count": 17,
   "id": "8dc5352b",
   "metadata": {},
   "outputs": [
    {
     "name": "stdout",
     "output_type": "stream",
     "text": [
      "Please,enter a number:10\n",
      " 10 X 1 = 10 \n",
      " 10 X 2 = 20 \n",
      " 10 X 3 = 30 \n",
      " 10 X 4 = 40 \n",
      " 10 X 5 = 50 \n",
      " 10 X 6 = 60 \n",
      " 10 X 7 = 70 \n",
      " 10 X 8 = 80 \n",
      " 10 X 9 = 90 \n",
      " 10 X 10 = 100 \n"
     ]
    }
   ],
   "source": [
    "#ans_for_2\n",
    "num = int(input(\"Please,enter a number:\"))\n",
    "for i in range(1,11):\n",
    "    print(f\" {num} X {i} = {num*i} \")"
   ]
  },
  {
   "cell_type": "code",
   "execution_count": null,
   "id": "866d9f39",
   "metadata": {},
   "outputs": [],
   "source": []
  }
 ],
 "metadata": {
  "kernelspec": {
   "display_name": "Python 3 (ipykernel)",
   "language": "python",
   "name": "python3"
  },
  "language_info": {
   "codemirror_mode": {
    "name": "ipython",
    "version": 3
   },
   "file_extension": ".py",
   "mimetype": "text/x-python",
   "name": "python",
   "nbconvert_exporter": "python",
   "pygments_lexer": "ipython3",
   "version": "3.9.7"
  }
 },
 "nbformat": 4,
 "nbformat_minor": 5
}
