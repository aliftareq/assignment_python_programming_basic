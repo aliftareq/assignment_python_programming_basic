{
 "cells": [
  {
   "cell_type": "markdown",
   "id": "d172e467",
   "metadata": {},
   "source": [
    "# 1. Write a Python program to print \"Hello Python\"?"
   ]
  },
  {
   "cell_type": "code",
   "execution_count": 1,
   "id": "55b4528c",
   "metadata": {},
   "outputs": [
    {
     "name": "stdout",
     "output_type": "stream",
     "text": [
      "Hello Python\n"
     ]
    }
   ],
   "source": [
    "#ans_for_1\n",
    "print(\"Hello Python\")"
   ]
  },
  {
   "cell_type": "markdown",
   "id": "79015d62",
   "metadata": {},
   "source": [
    "# 2. Write a Python program to do arithmetical operations addition and division.?"
   ]
  },
  {
   "cell_type": "code",
   "execution_count": 2,
   "id": "e1cac0e6",
   "metadata": {},
   "outputs": [
    {
     "name": "stdout",
     "output_type": "stream",
     "text": [
      "Enter your 1st value:5\n",
      "Enter your 2nd value:10\n",
      "the sum is 15.0\n",
      "the Quotient is 0.5\n"
     ]
    }
   ],
   "source": [
    "#ans_for_2\n",
    "a = float(input(\"Enter your 1st value:\"))\n",
    "b = float(input(\"Enter your 2nd value:\"))\n",
    "\n",
    "sum = a + b\n",
    "Quotient = a/b\n",
    "\n",
    "print(\"the sum is\",sum)\n",
    "print(\"the Quotient is\",Quotient)"
   ]
  },
  {
   "cell_type": "markdown",
   "id": "81e426a1",
   "metadata": {},
   "source": [
    "# 3. Write a Python program to find the area of a triangle?"
   ]
  },
  {
   "cell_type": "code",
   "execution_count": 3,
   "id": "159e120b",
   "metadata": {},
   "outputs": [
    {
     "name": "stdout",
     "output_type": "stream",
     "text": [
      "Enter the base of triangle:2\n",
      "Enter the height of triangle:3\n",
      "the area of triangle is 3.0\n"
     ]
    }
   ],
   "source": [
    "#ans_for_3(1)\n",
    "b = float(input(\"Enter the base of triangle:\"))\n",
    "h = float(input(\"Enter the height of triangle:\"))\n",
    "\n",
    "area = .5 * b * h\n",
    "\n",
    "print(\"the area of triangle is\",area)"
   ]
  },
  {
   "cell_type": "code",
   "execution_count": 9,
   "id": "4c0c20ff",
   "metadata": {},
   "outputs": [
    {
     "name": "stdout",
     "output_type": "stream",
     "text": [
      "Enter the 1st side of triangle:10\n",
      "Enter the 2nd side of triangle:5\n",
      "Enter the 3rd side of triangle:7\n",
      "the area is 16.24807680927192\n"
     ]
    }
   ],
   "source": [
    "#ans_for_3(2)\n",
    "import math\n",
    "a = float(input(\"Enter the 1st side of triangle:\"))\n",
    "b = float(input(\"Enter the 2nd side of triangle:\"))\n",
    "c = float(input(\"Enter the 3rd side of triangle:\"))\n",
    "\n",
    "s = (a+b+c)/2\n",
    "\n",
    "area = math.sqrt(s*(s-a)*(s-b)*(s-c))\n",
    "\n",
    "print(\"the area is\",area)"
   ]
  },
  {
   "cell_type": "markdown",
   "id": "ef8c0542",
   "metadata": {},
   "source": [
    "# 4. Write a Python program to swap two variables?"
   ]
  },
  {
   "cell_type": "code",
   "execution_count": 10,
   "id": "e7cf79d9",
   "metadata": {},
   "outputs": [
    {
     "name": "stdout",
     "output_type": "stream",
     "text": [
      "5 4\n"
     ]
    }
   ],
   "source": [
    "#ans_for_4\n",
    "a = 4\n",
    "b = 5\n",
    "a,b = b,a\n",
    "print(a,b)"
   ]
  },
  {
   "cell_type": "markdown",
   "id": "61429188",
   "metadata": {},
   "source": [
    "# 5. Write a Python program to generate a random number?"
   ]
  },
  {
   "cell_type": "code",
   "execution_count": 15,
   "id": "996cc1a1",
   "metadata": {},
   "outputs": [
    {
     "name": "stdout",
     "output_type": "stream",
     "text": [
      "5\n"
     ]
    }
   ],
   "source": [
    "#ans_for_5\n",
    "\n",
    "import random\n",
    "\n",
    "number = random.randint(0,10)\n",
    "\n",
    "print(number)"
   ]
  },
  {
   "cell_type": "code",
   "execution_count": null,
   "id": "96fef270",
   "metadata": {},
   "outputs": [],
   "source": []
  }
 ],
 "metadata": {
  "kernelspec": {
   "display_name": "Python 3 (ipykernel)",
   "language": "python",
   "name": "python3"
  },
  "language_info": {
   "codemirror_mode": {
    "name": "ipython",
    "version": 3
   },
   "file_extension": ".py",
   "mimetype": "text/x-python",
   "name": "python",
   "nbconvert_exporter": "python",
   "pygments_lexer": "ipython3",
   "version": "3.9.7"
  }
 },
 "nbformat": 4,
 "nbformat_minor": 5
}
